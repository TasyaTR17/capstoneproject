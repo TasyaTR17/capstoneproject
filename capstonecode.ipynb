{
 "cells": [
  {
   "cell_type": "code",
   "execution_count": 1,
   "metadata": {},
   "outputs": [],
   "source": [
    "#Import data, cleaning data, create sales insight and market basket analysis "
   ]
  },
  {
   "cell_type": "code",
   "execution_count": null,
   "metadata": {},
   "outputs": [],
   "source": [
    "pip install pandas"
   ]
  },
  {
   "cell_type": "code",
   "execution_count": null,
   "metadata": {},
   "outputs": [],
   "source": [
    "pip install os-sys"
   ]
  },
  {
   "cell_type": "code",
   "execution_count": null,
   "metadata": {},
   "outputs": [],
   "source": [
    "pip install nbformat"
   ]
  },
  {
   "cell_type": "code",
   "execution_count": null,
   "metadata": {},
   "outputs": [],
   "source": [
    "pip install mlxtend"
   ]
  },
  {
   "cell_type": "code",
   "execution_count": null,
   "metadata": {},
   "outputs": [],
   "source": [
    "pip install seaborn"
   ]
  },
  {
   "cell_type": "code",
   "execution_count": null,
   "metadata": {},
   "outputs": [],
   "source": [
    "pip install matplotlib"
   ]
  },
  {
   "cell_type": "code",
   "execution_count": null,
   "metadata": {},
   "outputs": [],
   "source": [
    "pip install numpy"
   ]
  },
  {
   "cell_type": "code",
   "execution_count": null,
   "metadata": {},
   "outputs": [],
   "source": [
    "import pandas as pd\n",
    "import os\n",
    "import plotly.express as px\n",
    "import numpy as np\n",
    "import plotly.graph_objects as go\n",
    "import matplotlib.pyplot as plt\n",
    "import seaborn as sns\n",
    "import operator as op\n",
    "import plotly.express as px\n",
    "from mlxtend.frequent_patterns import apriori, association_rules\n",
    "\n",
    "# Read the CSV file\n",
    "df = pd.read_csv('Groceries_dataset.csv')\n",
    "\n",
    "# Display the first few rows of the DataFrame\n",
    "print(df.head())"
   ]
  },
  {
   "cell_type": "code",
   "execution_count": null,
   "metadata": {},
   "outputs": [],
   "source": [
    "# To check the data types\n",
    "df.info()"
   ]
  },
  {
   "cell_type": "code",
   "execution_count": null,
   "metadata": {},
   "outputs": [],
   "source": [
    "# Renaming the columns, because it would be easier to understand what that means.\n",
    "df.columns = ['memberID', 'Date', 'itemName']\n",
    "df.head()"
   ]
  },
  {
   "cell_type": "code",
   "execution_count": null,
   "metadata": {},
   "outputs": [],
   "source": [
    "# Checking for the missing values\n",
    "nan_values = df.isna().sum()\n",
    "nan_values"
   ]
  },
  {
   "cell_type": "code",
   "execution_count": null,
   "metadata": {},
   "outputs": [],
   "source": [
    "# Converting Date column into correct datatype which is datetime\n",
    "df.Date = pd.to_datetime(df.Date)\n",
    "df.memberID = df['memberID'].astype('str')\n",
    "df.info()  # They are in correct datatype now"
   ]
  },
  {
   "cell_type": "code",
   "execution_count": null,
   "metadata": {},
   "outputs": [],
   "source": [
    "Sales_weekly = df.resample('w', on='Date').size()\n",
    "fig = px.line(df, x=Sales_weekly.index, y=Sales_weekly,\n",
    "              labels={'y': 'Number of Sales',\n",
    "                     'x': 'Date'})\n",
    "fig.update_layout(title_text='Number of Sales Weekly',\n",
    "                  title_x=0.5, title_font=dict(size=18)) \n",
    "fig.show()"
   ]
  },
  {
   "cell_type": "code",
   "execution_count": null,
   "metadata": {},
   "outputs": [],
   "source": [
    "Unique_customer_weekly = df.resample('w', on='Date').memberID.nunique()\n",
    "fig = px.line(Unique_customer_weekly, x=Unique_customer_weekly.index, y=Unique_customer_weekly,\n",
    "              labels={'y': 'Number of Customers'})\n",
    "fig.update_layout(title_text='Number of Customers Weekly',\n",
    "                  title_x=0.5, title_font=dict(size=18))\n",
    "fig.show()"
   ]
  },
  {
   "cell_type": "code",
   "execution_count": null,
   "metadata": {},
   "outputs": [],
   "source": [
    "Sales_per_Customer = Sales_weekly / Unique_customer_weekly\n",
    "fig = px.line(Sales_per_Customer, x=Sales_per_Customer.index, y=Sales_per_Customer,\n",
    "              labels={'y': 'Sales per Customer Ratio'})\n",
    "fig.update_layout(title_text='Sales per Customer Weekly',\n",
    "                  title_x=0.5, title_font=dict(size=18))\n",
    "fig.update_yaxes(rangemode=\"tozero\")\n",
    "fig.show()"
   ]
  },
  {
   "cell_type": "code",
   "execution_count": null,
   "metadata": {},
   "outputs": [],
   "source": [
    "Frequency_of_items = df.groupby(pd.Grouper(key='itemName')).size().reset_index(name='count')\n",
    "fig = px.treemap(Frequency_of_items, path=['itemName'], values='count')\n",
    "fig.update_layout(title_text='Frequency of the Items Sold',\n",
    "                  title_x=0.5, title_font=dict(size=18)\n",
    "                  )\n",
    "fig.update_traces(textinfo=\"label+value\")\n",
    "fig.show()"
   ]
  },
  {
   "cell_type": "code",
   "execution_count": null,
   "metadata": {},
   "outputs": [],
   "source": [
    "user_item = df.groupby(pd.Grouper(key='memberID')).size().reset_index(name='count') \n",
    "    .sort_values(by='count', ascending=False)\n",
    "fig = px.bar(user_item.head(25), x='memberID', y='count',\n",
    "             labels={'y': 'Number of Sales',\n",
    "                     'count': 'Number of Items Bought'},\n",
    "             color='count')\n",
    "fig.update_layout(title_text='Top 20 Customers regarding Number of Items Bought',\n",
    "                  title_x=0.5, title_font=dict(size=18))\n",
    "fig.update_traces(marker=dict(line=dict(color='#000000', width=1)))\n",
    "fig.show()"
   ]
  },
  {
   "cell_type": "code",
   "execution_count": null,
   "metadata": {},
   "outputs": [],
   "source": [
    "day = df.groupby(df['Date'].dt.strftime('%A'))['itemName'].count()\n",
    "fig = px.bar(day, x=day.index, y=day, color=day,\n",
    "             labels={'y': 'Number of Sales',\n",
    "                     'Date': 'Week Days'})\n",
    "fig.update_layout(title_text='Number of Sales per Discrete Week Days',\n",
    "                  title_x=0.5, title_font=dict(size=18))\n",
    "fig.update_traces(marker=dict(line=dict(color='#000000', width=1)))\n",
    "fig.show()"
   ]
  },
  {
   "cell_type": "code",
   "execution_count": null,
   "metadata": {},
   "outputs": [],
   "source": [
    "#create market basket analysis\n",
    "baskets = df.groupby(['memberID', 'itemName'])['itemName'].count().unstack().fillna(0).reset_index()\n",
    "baskets.head()"
   ]
  },
  {
   "cell_type": "code",
   "execution_count": null,
   "metadata": {},
   "outputs": [],
   "source": [
    "# Let's check the most sold -item which is whole milk- has the same number of sales as we discussed above in the treemap.\n",
    "baskets['whole milk'].sum()\n",
    "\n",
    "# Yep it satisfies our results."
   ]
  },
  {
   "cell_type": "code",
   "execution_count": null,
   "metadata": {},
   "outputs": [],
   "source": [
    "# Encoding the items that sold more than 1\n",
    "def one_hot_encoder(k):\n",
    "    if k <= 0:\n",
    "        return 0\n",
    "    if k >= 1:\n",
    "        return 1\n",
    "baskets_final = baskets.iloc[:, 1:baskets.shape[1]].applymap(one_hot_encoder)\n",
    "baskets_final.head()"
   ]
  },
  {
   "cell_type": "code",
   "execution_count": null,
   "metadata": {},
   "outputs": [],
   "source": [
    "# Finding the most frequent items sold together\n",
    "frequent_itemsets = apriori(baskets_final, min_support=0.025, use_colnames=True, max_len=3).sort_values(by='support')\n",
    "frequent_itemsets.head(25)"
   ]
  },
  {
   "cell_type": "code",
   "execution_count": null,
   "metadata": {},
   "outputs": [],
   "source": [
    "# Creating association rules for indicating astecedent and consequent items\n",
    "rules = association_rules(frequent_itemsets, metric=\"lift\", min_threshold=1).sort_values('lift', ascending=False)\n",
    "rules = rules[['antecedents', 'consequents', 'support', 'confidence', 'lift']]\n",
    "rules.head(25)"
   ]
  },
  {
   "cell_type": "code",
   "execution_count": 25,
   "metadata": {},
   "outputs": [],
   "source": [
    "# This step, we will do the customer segmentation using RFM (recency, frequency, monetary) analysis"
   ]
  },
  {
   "cell_type": "code",
   "execution_count": null,
   "metadata": {},
   "outputs": [],
   "source": [
    "# Finding last purchase date of each customer - Customer Recency\n",
    "Recency = df.groupby(by='memberID')['Date'].max().reset_index()\n",
    "Recency.columns = ['memberID', 'LastDate']\n",
    "Recency.head()"
   ]
  },
  {
   "cell_type": "code",
   "execution_count": null,
   "metadata": {},
   "outputs": [],
   "source": [
    "# Finding last date for our dataset\n",
    "last_date_dataset = Recency['LastDate'].max()\n",
    "last_date_dataset"
   ]
  },
  {
   "cell_type": "code",
   "execution_count": null,
   "metadata": {},
   "outputs": [],
   "source": [
    "# Calculating Recency by subtracting (last transaction date of dataset) and (last purchase date of each customer)\n",
    "Recency['Recency'] = Recency['LastDate'].apply(lambda x: (last_date_dataset - x).days)\n",
    "Recency.head()"
   ]
  },
  {
   "cell_type": "code",
   "execution_count": null,
   "metadata": {},
   "outputs": [],
   "source": [
    "fig = px.histogram(Recency, x='Recency', opacity=0.85, marginal='box')\n",
    "fig.update_traces(marker=dict(line=dict(color='#000000', width=1)))\n",
    "fig.update_layout(title_text='Recency Distribution of the Customers',\n",
    "                  title_x=0.5, title_font=dict(size=20))\n",
    "fig.show()"
   ]
  },
  {
   "cell_type": "code",
   "execution_count": null,
   "metadata": {},
   "outputs": [],
   "source": [
    "# Frequency of the customer visits\n",
    "Frequency = df.drop_duplicates(['Date', 'memberID']).groupby(by=['memberID'])['Date'].count().reset_index()\n",
    "Frequency.columns = ['memberID', 'Visit_Frequency']\n",
    "Frequency.head()"
   ]
  },
  {
   "cell_type": "code",
   "execution_count": null,
   "metadata": {},
   "outputs": [],
   "source": [
    "fig = px.histogram(Frequency, x='Visit_Frequency', opacity=0.85, marginal='box')\n",
    "fig.update_traces(marker=dict(line=dict(color='#000000', width=1)))\n",
    "fig.update_layout(title_text='Visit Frequency Distribution of the Customers',\n",
    "                  title_x=0.5, title_font=dict(size=20))\n",
    "fig.show()"
   ]
  },
  {
   "cell_type": "code",
   "execution_count": null,
   "metadata": {},
   "outputs": [],
   "source": [
    "# Customer Monetary group\n",
    "\n",
    "Monetary = df.groupby(by=\"memberID\")['itemName'].count().reset_index()\n",
    "Monetary.columns = ['memberID', 'Monetary']\n",
    "Monetary.head()"
   ]
  },
  {
   "cell_type": "code",
   "execution_count": null,
   "metadata": {},
   "outputs": [],
   "source": [
    "# I assumed each item has equal price and price is 10\n",
    "Monetary['Monetary'] = Monetary['Monetary'] * 10\n",
    "Monetary.head()"
   ]
  },
  {
   "cell_type": "code",
   "execution_count": null,
   "metadata": {},
   "outputs": [],
   "source": [
    "fig = px.histogram(Monetary, x='Monetary', opacity=0.85, marginal='box',\n",
    "                   labels={'itemName': 'Monetary'})\n",
    "fig.update_traces(marker=dict(line=dict(color='#000000', width=1)))\n",
    "fig.update_layout(title_text='Monetary Distribution of the Customers',\n",
    "                  title_x=0.5, title_font=dict(size=20))\n",
    "fig.show()"
   ]
  },
  {
   "cell_type": "code",
   "execution_count": null,
   "metadata": {},
   "outputs": [],
   "source": [
    "# Combining all scores into one DataFrame\n",
    "RFM = pd.concat([Recency['memberID'], Recency['Recency'], Frequency['Visit_Frequency'], Monetary['Monetary']], axis=1)\n",
    "RFM.head()"
   ]
  },
  {
   "cell_type": "code",
   "execution_count": null,
   "metadata": {},
   "outputs": [],
   "source": [
    "# RFM scoring\n",
    "# 5-5 score = the best customers\n",
    "RFM['Recency_quartile'] = pd.qcut(RFM['Recency'], 5, [5, 4, 3, 2, 1])\n",
    "RFM['Frequency_quartile'] = pd.qcut(RFM['Visit_Frequency'], 5, [1, 2, 3, 4, 5])\n",
    "\n",
    "RFM['RF_Score'] = RFM['Recency_quartile'].astype(str) + RFM['Frequency_quartile'].astype(str)\n",
    "RFM.head()"
   ]
  },
  {
   "cell_type": "code",
   "execution_count": null,
   "metadata": {},
   "outputs": [],
   "source": [
    "segt_map = {  # Segmentation Map [Ref]\n",
    "    r'[1-2][1-2]': 'hibernating',\n",
    "    r'[1-2][3-4]': 'at risk',\n",
    "    r'[1-2]5': 'can\\'t loose',\n",
    "    r'3[1-2]': 'about to sleep',\n",
    "    r'33': 'need attention',\n",
    "    r'[3-4][4-5]': 'loyal customers',\n",
    "    r'41': 'promising',\n",
    "    r'51': 'new customers',\n",
    "    r'[4-5][2-3]': 'potential loyalists',\n",
    "    r'5[4-5]': 'champions'\n",
    "}\n",
    "\n",
    "RFM['RF_Segment'] = RFM['RF_Score'].replace(segt_map, regex=True)\n",
    "RFM.head()"
   ]
  },
  {
   "cell_type": "code",
   "execution_count": null,
   "metadata": {},
   "outputs": [],
   "source": [
    "x = RFM.RF_Segment.value_counts()\n",
    "fig = px.treemap(x, path=[x.index], values=x)\n",
    "fig.update_layout(title_text='Distribution of the RFM Segments', title_x=0.5,\n",
    "                  title_font=dict(size=20))\n",
    "fig.update_traces(textinfo=\"label+value+percent root\")\n",
    "fig.show()"
   ]
  },
  {
   "cell_type": "code",
   "execution_count": null,
   "metadata": {},
   "outputs": [],
   "source": [
    "fig = px.scatter(RFM, x=\"Visit_Frequency\", y=\"Recency\", color='RF_Segment',\n",
    "                 labels={\"math score\": \"Math Score\",\n",
    "                         \"writing score\": \"Writing Score\"})\n",
    "fig.update_layout(title_text='Relationship between Visit_Frequency and Recency',\n",
    "                  title_x=0.5, title_font=dict(size=20))\n",
    "fig.show()"
   ]
  }
 ],
 "metadata": {
  "kernelspec": {
   "display_name": "Python 3",
   "language": "python",
   "name": "python3"
  },
  "language_info": {
   "codemirror_mode": {
    "name": "ipython",
    "version": 3
   },
   "file_extension": ".py",
   "mimetype": "text/x-python",
   "name": "python",
   "nbconvert_exporter": "python",
   "pygments_lexer": "ipython3",
   "version": "3.12.5"
  }
 },
 "nbformat": 4,
 "nbformat_minor": 2
}
